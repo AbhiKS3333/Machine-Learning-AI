{
  "nbformat": 4,
  "nbformat_minor": 0,
  "metadata": {
    "colab": {
      "name": "Copy of Untitled1.ipynb",
      "version": "0.3.2",
      "provenance": []
    },
    "kernelspec": {
      "name": "python3",
      "display_name": "Python 3"
    },
    "accelerator": "GPU"
  },
  "cells": [
    {
      "cell_type": "code",
      "metadata": {
        "id": "gSFLgHG51XB-",
        "colab_type": "code",
        "outputId": "7740be71-7e14-4662-fe44-039d0c073f75",
        "colab": {
          "base_uri": "https://localhost:8080/",
          "height": 35
        }
      },
      "source": [
        "from google.colab import drive\n",
        "drive.mount('/content/drive')"
      ],
      "execution_count": 0,
      "outputs": [
        {
          "output_type": "stream",
          "text": [
            "Drive already mounted at /content/drive; to attempt to forcibly remount, call drive.mount(\"/content/drive\", force_remount=True).\n"
          ],
          "name": "stdout"
        }
      ]
    },
    {
      "cell_type": "code",
      "metadata": {
        "id": "e9iAZlVo1ka2",
        "colab_type": "code",
        "colab": {}
      },
      "source": [
        "import h5py\n",
        "import numpy as np\n",
        "\n",
        "h5f= h5py.File('/content/drive/My Drive/googlecolab/SVHN_single_grey1.h5', 'r')"
      ],
      "execution_count": 0,
      "outputs": []
    },
    {
      "cell_type": "code",
      "metadata": {
        "id": "FucVl7Zv4TsC",
        "colab_type": "code",
        "colab": {}
      },
      "source": [
        "X_train=h5f['X_train'][:4000]\n",
        "X_test=h5f['X_test'][:1000]\n",
        "Y_train=h5f['y_train'][:4000]\n",
        "Y_test=h5f['y_test'][:1000]"
      ],
      "execution_count": 0,
      "outputs": []
    },
    {
      "cell_type": "code",
      "metadata": {
        "id": "7T_PqSQ65FpW",
        "colab_type": "code",
        "colab": {}
      },
      "source": [
        "rows, x, y =X_train.shape\n",
        "X_train1=np.reshape(X_train, (rows,x*y))"
      ],
      "execution_count": 0,
      "outputs": []
    },
    {
      "cell_type": "code",
      "metadata": {
        "id": "zUex2qP55VHi",
        "colab_type": "code",
        "colab": {}
      },
      "source": [
        "\n",
        "trows, tx, ty =X_test.shape\n",
        "X_test1=np.reshape(X_test, (trows,tx*ty))"
      ],
      "execution_count": 0,
      "outputs": []
    },
    {
      "cell_type": "code",
      "metadata": {
        "id": "4AOlTjEwhag_",
        "colab_type": "code",
        "outputId": "e098e56e-6a15-4d9b-9660-6bd988d133d1",
        "colab": {
          "base_uri": "https://localhost:8080/",
          "height": 54
        }
      },
      "source": [
        "print(X_train1.shape)\n",
        "print(X_test1.shape)"
      ],
      "execution_count": 0,
      "outputs": [
        {
          "output_type": "stream",
          "text": [
            "(4000, 1024)\n",
            "(1000, 1024)\n"
          ],
          "name": "stdout"
        }
      ]
    },
    {
      "cell_type": "code",
      "metadata": {
        "id": "fw8vq5ucEAfa",
        "colab_type": "code",
        "colab": {}
      },
      "source": [
        "from sklearn.model_selection import train_test_split\n",
        "X_tr, X_va, Y_tr, Y_va =train_test_split(X_train1,Y_train, test_size=0.2, random_state=7)"
      ],
      "execution_count": 0,
      "outputs": []
    },
    {
      "cell_type": "code",
      "metadata": {
        "id": "e8UVBq1L9mi_",
        "colab_type": "code",
        "colab": {}
      },
      "source": [
        "# Load libraries\n",
        "from matplotlib import pyplot\n",
        "import pandas as pd\n",
        "from pandas import set_option\n",
        "import seaborn as sn\n",
        "from sklearn.preprocessing import StandardScaler\n",
        "from sklearn.model_selection import KFold\n",
        "from sklearn.model_selection import cross_val_score\n",
        "from sklearn.model_selection import GridSearchCV\n",
        "from sklearn.neighbors import KNeighborsClassifier\n",
        "from sklearn.pipeline import Pipeline\n",
        "from sklearn.metrics import mean_squared_error\n",
        "%matplotlib inline\n",
        "from scipy.stats import zscore  "
      ],
      "execution_count": 0,
      "outputs": []
    },
    {
      "cell_type": "code",
      "metadata": {
        "id": "IPAzui1E-YHD",
        "colab_type": "code",
        "colab": {}
      },
      "source": [
        "# Test options and evaluation metric\n",
        "\n",
        "num_folds = 5\n",
        "seed = 7\n",
        "scoring = 'mean_squared_error'\n",
        "model = KNeighborsClassifier()    "
      ],
      "execution_count": 0,
      "outputs": []
    },
    {
      "cell_type": "code",
      "metadata": {
        "id": "3u2gHD21udY9",
        "colab_type": "code",
        "colab": {}
      },
      "source": [
        "# Tune Hyper parameter \n",
        "scaler = StandardScaler().fit(X_tr)\n",
        "rescaledX = scaler.transform(X_tr)\n",
        "k_values = np.array([1,3,5,7,9,11,13,15,20,30,40,50])\n",
        "param_grid = dict(n_neighbors=k_values)\n",
        "kfold = KFold(n_splits=num_folds, random_state=seed)\n",
        "grid = GridSearchCV(estimator=model, param_grid=param_grid, cv=kfold)\n",
        "grid_result = grid.fit(rescaledX, Y_tr)"
      ],
      "execution_count": 0,
      "outputs": []
    },
    {
      "cell_type": "code",
      "metadata": {
        "id": "Rv2jqJuD6Tjc",
        "colab_type": "code",
        "outputId": "476b22cb-0588-4cd9-901b-8c5d7ee789b8",
        "colab": {
          "base_uri": "https://localhost:8080/",
          "height": 256
        }
      },
      "source": [
        "print(\"Best: %f using %s\" % (-grid_result.best_score_, grid_result.best_params_))\n",
        "means = grid_result.cv_results_['mean_test_score']\n",
        "stds = grid_result.cv_results_['std_test_score']\n",
        "params = grid_result.cv_results_['params']\n",
        "for mean, stdev, param in zip(means, stds, params):\n",
        "    print(\"%f (%f) with: %r\" % (-mean, stdev, param))"
      ],
      "execution_count": 0,
      "outputs": [
        {
          "output_type": "stream",
          "text": [
            "Best: -0.316250 using {'n_neighbors': 13}\n",
            "-0.299687 (0.014300) with: {'n_neighbors': 1}\n",
            "-0.282813 (0.018957) with: {'n_neighbors': 3}\n",
            "-0.305312 (0.026007) with: {'n_neighbors': 5}\n",
            "-0.313437 (0.019101) with: {'n_neighbors': 7}\n",
            "-0.309063 (0.014604) with: {'n_neighbors': 9}\n",
            "-0.312500 (0.015842) with: {'n_neighbors': 11}\n",
            "-0.316250 (0.014974) with: {'n_neighbors': 13}\n",
            "-0.312812 (0.015793) with: {'n_neighbors': 15}\n",
            "-0.310000 (0.025012) with: {'n_neighbors': 20}\n",
            "-0.292500 (0.017128) with: {'n_neighbors': 30}\n",
            "-0.293750 (0.024287) with: {'n_neighbors': 40}\n",
            "-0.283438 (0.023812) with: {'n_neighbors': 50}\n"
          ],
          "name": "stdout"
        }
      ]
    },
    {
      "cell_type": "code",
      "metadata": {
        "id": "VsoLRlXK6yJj",
        "colab_type": "code",
        "outputId": "09a7163e-ff82-4605-9849-41871b26b181",
        "colab": {
          "base_uri": "https://localhost:8080/",
          "height": 35
        }
      },
      "source": [
        "model2 = KNeighborsClassifier (n_neighbors=13)   \n",
        "model2.fit(scaler.transform(X_tr),Y_tr)\n",
        "model2.score(scaler.transform(X_tr),Y_tr)"
      ],
      "execution_count": 0,
      "outputs": [
        {
          "output_type": "execute_result",
          "data": {
            "text/plain": [
              "0.4940625"
            ]
          },
          "metadata": {
            "tags": []
          },
          "execution_count": 25
        }
      ]
    },
    {
      "cell_type": "code",
      "metadata": {
        "id": "OWTCJ9MNOTV8",
        "colab_type": "code",
        "outputId": "334d48f8-55bf-4ece-db0c-c0d2aac73966",
        "colab": {
          "base_uri": "https://localhost:8080/",
          "height": 35
        }
      },
      "source": [
        "from sklearn import metrics\n",
        "from sklearn.metrics import confusion_matrix\n",
        "\n",
        "prediction=model2.predict(scaler.transform(X_va))\n",
        "print(\"Accuracy:\",metrics.accuracy_score(prediction,Y_va))"
      ],
      "execution_count": 0,
      "outputs": [
        {
          "output_type": "stream",
          "text": [
            "Accuracy: 0.33\n"
          ],
          "name": "stdout"
        }
      ]
    },
    {
      "cell_type": "code",
      "metadata": {
        "id": "vrfyHHwx7XBl",
        "colab_type": "code",
        "outputId": "ae476d5a-3364-4db5-88c1-9cbce89dffb6",
        "colab": {
          "base_uri": "https://localhost:8080/",
          "height": 35
        }
      },
      "source": [
        "prediction=model2.predict(scaler.transform(X_test1))\n",
        "print(\"Accuracy:\",metrics.accuracy_score(prediction,Y_test))"
      ],
      "execution_count": 0,
      "outputs": [
        {
          "output_type": "stream",
          "text": [
            "Accuracy: 0.373\n"
          ],
          "name": "stdout"
        }
      ]
    },
    {
      "cell_type": "code",
      "metadata": {
        "id": "xHB5MYU_L0Qf",
        "colab_type": "code",
        "outputId": "b0f2398b-685e-4a43-e0e8-7618315a03b1",
        "colab": {
          "base_uri": "https://localhost:8080/",
          "height": 219
        }
      },
      "source": [
        "# Confusion Metrix \n",
        "print(\"Confusion Metrix:   \\n\", metrics.confusion_matrix(prediction,Y_test))"
      ],
      "execution_count": 0,
      "outputs": [
        {
          "output_type": "stream",
          "text": [
            "Confusion Metrix:   \n",
            " [[68 13 12  9  8 21 26  9 17 29]\n",
            " [11 56 13 16 18 13  3 16  3 11]\n",
            " [ 0  2 32 10  3  3  1 11  5  5]\n",
            " [ 2  7  6 27  6 13  7  9  4  7]\n",
            " [ 8  7  5  4 42  3 14  2 10  6]\n",
            " [ 1  1  1  8  2 21  5  3  6  5]\n",
            " [ 8  2  4  4  4 14 26  2 15  5]\n",
            " [ 4  2  7  3  5  3  1 48  2  7]\n",
            " [ 5  3  5  2  2  6  4  1 26  9]\n",
            " [10  0  7  2  6  8  7  6 12 27]]\n"
          ],
          "name": "stdout"
        }
      ]
    },
    {
      "cell_type": "code",
      "metadata": {
        "id": "tkzs07c-O6G2",
        "colab_type": "code",
        "outputId": "17de5842-0702-4686-a51e-34f3d361182c",
        "colab": {
          "base_uri": "https://localhost:8080/",
          "height": 54
        }
      },
      "source": [
        "metrics.f1_score(Y_test, prediction,average=None)"
      ],
      "execution_count": 0,
      "outputs": [
        {
          "output_type": "execute_result",
          "data": {
            "text/plain": [
              "array([0.41337386, 0.44268775, 0.3902439 , 0.31213873, 0.42639594,\n",
              "       0.26582278, 0.29213483, 0.50793651, 0.3190184 , 0.2755102 ])"
            ]
          },
          "metadata": {
            "tags": []
          },
          "execution_count": 38
        }
      ]
    },
    {
      "cell_type": "code",
      "metadata": {
        "id": "qjN5WshRTlza",
        "colab_type": "code",
        "outputId": "09a4ab0b-ef9c-4a46-dff7-0b0e72109668",
        "colab": {
          "base_uri": "https://localhost:8080/",
          "height": 54
        }
      },
      "source": [
        "metrics.precision_score(Y_test, prediction,average=None)"
      ],
      "execution_count": 0,
      "outputs": [
        {
          "output_type": "execute_result",
          "data": {
            "text/plain": [
              "array([0.32075472, 0.35      , 0.44444444, 0.30681818, 0.41584158,\n",
              "       0.39622642, 0.30952381, 0.58536585, 0.41269841, 0.31764706])"
            ]
          },
          "metadata": {
            "tags": []
          },
          "execution_count": 42
        }
      ]
    },
    {
      "cell_type": "code",
      "metadata": {
        "id": "0Y-XQPvNUIpy",
        "colab_type": "code",
        "outputId": "c1f1351f-e976-4e00-ad12-1138b1a55a3b",
        "colab": {
          "base_uri": "https://localhost:8080/",
          "height": 54
        }
      },
      "source": [
        "metrics.recall_score(Y_test, prediction,average=None)"
      ],
      "execution_count": 0,
      "outputs": [
        {
          "output_type": "execute_result",
          "data": {
            "text/plain": [
              "array([0.58119658, 0.60215054, 0.34782609, 0.31764706, 0.4375    ,\n",
              "       0.2       , 0.27659574, 0.44859813, 0.26      , 0.24324324])"
            ]
          },
          "metadata": {
            "tags": []
          },
          "execution_count": 43
        }
      ]
    },
    {
      "cell_type": "code",
      "metadata": {
        "id": "Ggtqa3YBuyy0",
        "colab_type": "code",
        "colab": {}
      },
      "source": [
        "import tensorflow as tf\n",
        "tf.keras.backend.clear_session()\n",
        "tf.set_random_seed(42)"
      ],
      "execution_count": 0,
      "outputs": []
    },
    {
      "cell_type": "code",
      "metadata": {
        "id": "B88-ULy-vbwr",
        "colab_type": "code",
        "outputId": "00fa1617-ab2e-4661-d92f-f253e519a30f",
        "colab": {
          "base_uri": "https://localhost:8080/",
          "height": 90
        }
      },
      "source": [
        "X_train=h5f['X_train'][:4000]\n",
        "X_test=h5f['X_test'][:1000]\n",
        "Y_train=h5f['y_train'][:4000]\n",
        "Y_test=h5f['y_test'][:1000]\n",
        "\n",
        "Y_train1 = tf.keras.utils.to_categorical(Y_train, num_classes=10)\n",
        "Y_test1 = tf.keras.utils.to_categorical(Y_test, num_classes=10)\n",
        "print(X_train.shape)\n",
        "print(X_test.shape)\n",
        "print(Y_train1.shape)\n",
        "print(Y_test1.shape)"
      ],
      "execution_count": 0,
      "outputs": [
        {
          "output_type": "stream",
          "text": [
            "(4000, 32, 32)\n",
            "(1000, 32, 32)\n",
            "(4000, 10)\n",
            "(1000, 10)\n"
          ],
          "name": "stdout"
        }
      ]
    },
    {
      "cell_type": "code",
      "metadata": {
        "id": "5koCvOglwFbN",
        "colab_type": "code",
        "colab": {}
      },
      "source": [
        "model = tf.keras.models.Sequential()\n",
        "\n",
        "#Reshape data from 2D (28,28) to 1D (784, )\n",
        "model.add(tf.keras.layers.Reshape((1024,),input_shape=(32,32,)))\n",
        "\n",
        "#normalize data\n",
        "model.add(tf.keras.layers.BatchNormalization())"
      ],
      "execution_count": 0,
      "outputs": []
    },
    {
      "cell_type": "code",
      "metadata": {
        "id": "w7hspzo0wrxa",
        "colab_type": "code",
        "colab": {}
      },
      "source": [
        "#Dense layer 1\n",
        "\n",
        "model.add(tf.keras.layers.Dense(200, activation='relu'))\n",
        "\n",
        "#Dense layer 2\n",
        "model.add(tf.keras.layers.Dense(100, activation='relu'))\n",
        "\n",
        "# Add dropout\n",
        "model.add(tf.keras.layers.Dropout(0.25))"
      ],
      "execution_count": 0,
      "outputs": []
    },
    {
      "cell_type": "code",
      "metadata": {
        "id": "McTVVlFtw8zq",
        "colab_type": "code",
        "outputId": "c9427271-876f-43b8-ffa7-725325a1a6aa",
        "colab": {
          "base_uri": "https://localhost:8080/",
          "height": 366
        }
      },
      "source": [
        "#output layer \n",
        "model.add(tf.keras.layers.Dense(10, activation='softmax'))\n",
        "\n",
        "#Compile\n",
        "\n",
        "sgd_optimizer = tf.keras.optimizers.SGD(lr=0.01, momentum=0.0, decay=0.0, nesterov=False)\n",
        "\n",
        "model.compile(sgd_optimizer, \n",
        "              loss='categorical_crossentropy', metrics=['accuracy'])\n",
        "\n",
        "model.summary()"
      ],
      "execution_count": 0,
      "outputs": [
        {
          "output_type": "stream",
          "text": [
            "_________________________________________________________________\n",
            "Layer (type)                 Output Shape              Param #   \n",
            "=================================================================\n",
            "reshape (Reshape)            (None, 1024)              0         \n",
            "_________________________________________________________________\n",
            "batch_normalization_v1 (Batc (None, 1024)              4096      \n",
            "_________________________________________________________________\n",
            "dense (Dense)                (None, 200)               205000    \n",
            "_________________________________________________________________\n",
            "dense_1 (Dense)              (None, 100)               20100     \n",
            "_________________________________________________________________\n",
            "dropout (Dropout)            (None, 100)               0         \n",
            "_________________________________________________________________\n",
            "dense_2 (Dense)              (None, 10)                1010      \n",
            "=================================================================\n",
            "Total params: 230,206\n",
            "Trainable params: 228,158\n",
            "Non-trainable params: 2,048\n",
            "_________________________________________________________________\n"
          ],
          "name": "stdout"
        }
      ]
    },
    {
      "cell_type": "code",
      "metadata": {
        "id": "mAADmOM6xB6D",
        "colab_type": "code",
        "outputId": "1e9d27f9-28c0-4647-f8d9-784198882ea4",
        "colab": {
          "base_uri": "https://localhost:8080/",
          "height": 421
        }
      },
      "source": [
        "#Train the model\n",
        "\n",
        "earlyStopping=tf.keras.callbacks.EarlyStopping(patience=5)\n",
        "\n",
        "\n",
        "model.fit(X_train,Y_train1,          \n",
        "          validation_data=(X_test,Y_test1),\n",
        "          epochs=10,\n",
        "          batch_size=32,\n",
        "         callbacks=[earlyStopping])"
      ],
      "execution_count": 0,
      "outputs": [
        {
          "output_type": "stream",
          "text": [
            "Train on 4000 samples, validate on 1000 samples\n",
            "Epoch 1/10\n",
            "4000/4000 [==============================] - 1s 150us/sample - loss: 2.3954 - acc: 0.1357 - val_loss: 2.1958 - val_acc: 0.2320\n",
            "Epoch 2/10\n",
            "4000/4000 [==============================] - 0s 112us/sample - loss: 2.1527 - acc: 0.2305 - val_loss: 2.0121 - val_acc: 0.3120\n",
            "Epoch 3/10\n",
            "4000/4000 [==============================] - 0s 110us/sample - loss: 1.9809 - acc: 0.2990 - val_loss: 1.8447 - val_acc: 0.4160\n",
            "Epoch 4/10\n",
            "4000/4000 [==============================] - 0s 112us/sample - loss: 1.8272 - acc: 0.3790 - val_loss: 1.6782 - val_acc: 0.4830\n",
            "Epoch 5/10\n",
            "4000/4000 [==============================] - 0s 107us/sample - loss: 1.6972 - acc: 0.4397 - val_loss: 1.5586 - val_acc: 0.5250\n",
            "Epoch 6/10\n",
            "4000/4000 [==============================] - 0s 106us/sample - loss: 1.5735 - acc: 0.4823 - val_loss: 1.4358 - val_acc: 0.5740\n",
            "Epoch 7/10\n",
            "4000/4000 [==============================] - 0s 107us/sample - loss: 1.4966 - acc: 0.5027 - val_loss: 1.3361 - val_acc: 0.6030\n",
            "Epoch 8/10\n",
            "4000/4000 [==============================] - 0s 103us/sample - loss: 1.4091 - acc: 0.5365 - val_loss: 1.2582 - val_acc: 0.6380\n",
            "Epoch 9/10\n",
            "4000/4000 [==============================] - 0s 110us/sample - loss: 1.3341 - acc: 0.5702 - val_loss: 1.2160 - val_acc: 0.6420\n",
            "Epoch 10/10\n",
            "4000/4000 [==============================] - 0s 119us/sample - loss: 1.2735 - acc: 0.6000 - val_loss: 1.1841 - val_acc: 0.6500\n"
          ],
          "name": "stdout"
        },
        {
          "output_type": "execute_result",
          "data": {
            "text/plain": [
              "<tensorflow.python.keras.callbacks.History at 0x7f5c701befd0>"
            ]
          },
          "metadata": {
            "tags": []
          },
          "execution_count": 69
        }
      ]
    },
    {
      "cell_type": "code",
      "metadata": {
        "id": "utQ407QmzcvW",
        "colab_type": "code",
        "colab": {}
      },
      "source": [
        "prediction1=model.predict_classes(X_test)"
      ],
      "execution_count": 0,
      "outputs": []
    },
    {
      "cell_type": "code",
      "metadata": {
        "id": "JHAlyYD-zwCR",
        "colab_type": "code",
        "outputId": "9a630487-520c-4cfe-d6c9-d04100f58a04",
        "colab": {
          "base_uri": "https://localhost:8080/",
          "height": 35
        }
      },
      "source": [
        "metrics.accuracy_score(prediction1,Y_test)"
      ],
      "execution_count": 0,
      "outputs": [
        {
          "output_type": "execute_result",
          "data": {
            "text/plain": [
              "0.65"
            ]
          },
          "metadata": {
            "tags": []
          },
          "execution_count": 82
        }
      ]
    },
    {
      "cell_type": "code",
      "metadata": {
        "id": "OTRO9ZYu2H5n",
        "colab_type": "code",
        "outputId": "eb1e0e69-defd-407e-9b88-42d5a6d5abf2",
        "colab": {
          "base_uri": "https://localhost:8080/",
          "height": 54
        }
      },
      "source": [
        "metrics.f1_score(Y_test, prediction1,average=None)"
      ],
      "execution_count": 0,
      "outputs": [
        {
          "output_type": "execute_result",
          "data": {
            "text/plain": [
              "array([0.65612648, 0.65838509, 0.71264368, 0.55276382, 0.69767442,\n",
              "       0.60301508, 0.46067416, 0.79069767, 0.65306122, 0.68571429])"
            ]
          },
          "metadata": {
            "tags": []
          },
          "execution_count": 83
        }
      ]
    },
    {
      "cell_type": "code",
      "metadata": {
        "id": "xBbX4rm30S1Q",
        "colab_type": "code",
        "outputId": "c81b3440-a46a-4b8d-d3ee-5cd35e00faf4",
        "colab": {
          "base_uri": "https://localhost:8080/",
          "height": 54
        }
      },
      "source": [
        "metrics.precision_score(Y_test, prediction1,average=None)"
      ],
      "execution_count": 0,
      "outputs": [
        {
          "output_type": "execute_result",
          "data": {
            "text/plain": [
              "array([0.61029412, 0.77941176, 0.75609756, 0.48245614, 0.6302521 ,\n",
              "       0.63829787, 0.48809524, 0.78703704, 0.66666667, 0.72727273])"
            ]
          },
          "metadata": {
            "tags": []
          },
          "execution_count": 84
        }
      ]
    },
    {
      "cell_type": "code",
      "metadata": {
        "id": "dUUiSga-2Ys1",
        "colab_type": "code",
        "outputId": "b577ca68-b8ad-4f52-8de7-96d165b1774a",
        "colab": {
          "base_uri": "https://localhost:8080/",
          "height": 54
        }
      },
      "source": [
        "metrics.recall_score(Y_test, prediction1,average=None)"
      ],
      "execution_count": 0,
      "outputs": [
        {
          "output_type": "execute_result",
          "data": {
            "text/plain": [
              "array([0.70940171, 0.56989247, 0.67391304, 0.64705882, 0.78125   ,\n",
              "       0.57142857, 0.43617021, 0.79439252, 0.64      , 0.64864865])"
            ]
          },
          "metadata": {
            "tags": []
          },
          "execution_count": 85
        }
      ]
    },
    {
      "cell_type": "code",
      "metadata": {
        "id": "7SYsP5uw2iYm",
        "colab_type": "code",
        "colab": {}
      },
      "source": [
        "The DNN has way better performance than KNN model in test data"
      ],
      "execution_count": 0,
      "outputs": []
    }
  ]
}